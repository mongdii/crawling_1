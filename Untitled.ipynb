{
 "cells": [
  {
   "cell_type": "code",
   "execution_count": 1,
   "metadata": {},
   "outputs": [],
   "source": [
    "from urllib.request import urlopen\n",
    "from bs4 import BeautifulSoup"
   ]
  },
  {
   "cell_type": "code",
   "execution_count": 21,
   "metadata": {},
   "outputs": [
    {
     "name": "stdout",
     "output_type": "stream",
     "text": [
      "<a class=\"image\" href=\"/wiki/File:Iris_pseudacorus_iris_des_marais.jpg\"><img alt=\"Iris pseudacorus iris des marais.jpg\" data-file-height=\"3148\" data-file-width=\"2092\" decoding=\"async\" height=\"331\" src=\"//upload.wikimedia.org/wikipedia/commons/thumb/c/c3/Iris_pseudacorus_iris_des_marais.jpg/220px-Iris_pseudacorus_iris_des_marais.jpg\" srcset=\"//upload.wikimedia.org/wikipedia/commons/thumb/c/c3/Iris_pseudacorus_iris_des_marais.jpg/330px-Iris_pseudacorus_iris_des_marais.jpg 1.5x, //upload.wikimedia.org/wikipedia/commons/thumb/c/c3/Iris_pseudacorus_iris_des_marais.jpg/440px-Iris_pseudacorus_iris_des_marais.jpg 2x\" width=\"220\"/></a>\n",
      "\n",
      "\n"
     ]
    }
   ],
   "source": [
    "html = urlopen(\n",
    "    \"https://en.wikipedia.org/wiki/Iris_pseudacorus\")\n",
    "bs0bj = BeautifulSoup(html, \"html.parser\")\n",
    "for child in bs0bj.find(\"td\",{\"colspan\":\"2\"}).children :\n",
    "    print(child)"
   ]
  },
  {
   "cell_type": "code",
   "execution_count": null,
   "metadata": {},
   "outputs": [],
   "source": []
  }
 ],
 "metadata": {
  "kernelspec": {
   "display_name": "Python 3",
   "language": "python",
   "name": "python3"
  },
  "language_info": {
   "codemirror_mode": {
    "name": "ipython",
    "version": 3
   },
   "file_extension": ".py",
   "mimetype": "text/x-python",
   "name": "python",
   "nbconvert_exporter": "python",
   "pygments_lexer": "ipython3",
   "version": "3.8.3"
  }
 },
 "nbformat": 4,
 "nbformat_minor": 4
}
